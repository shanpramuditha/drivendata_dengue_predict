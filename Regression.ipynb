{
 "cells": [
  {
   "cell_type": "code",
   "execution_count": 40,
   "metadata": {},
   "outputs": [],
   "source": [
    "import matplotlib as mpl\n",
    "import matplotlib.pyplot as plt\n",
    "import numpy as np\n",
    "import pandas as pd\n",
    "import seaborn as sns\n",
    "\n",
    "from sklearn.dummy import DummyRegressor\n",
    "from sklearn.linear_model import LinearRegression\n",
    "from sklearn.neighbors import KNeighborsRegressor\n",
    "from sklearn.svm import SVR\n",
    "from sklearn.ensemble import GradientBoostingRegressor\n",
    "from sklearn.ensemble import RandomForestRegressor\n",
    "from sklearn.neural_network import MLPRegressor\n",
    "\n",
    "from sklearn.metrics import mean_absolute_error\n",
    "\n",
    "from sklearn.model_selection import train_test_split\n",
    "from sklearn.model_selection import cross_val_score\n",
    "from sklearn.model_selection import GridSearchCV\n",
    "\n",
    "from sklearn.preprocessing import Imputer\n",
    "\n",
    "%matplotlib inline"
   ]
  },
  {
   "cell_type": "code",
   "execution_count": 41,
   "metadata": {},
   "outputs": [],
   "source": [
    "pd.set_option('display.max_columns', 100)\n",
    "\n",
    "mpl.rc(group='figure', figsize=(10,8))\n",
    "plt.style.use('seaborn')"
   ]
  },
  {
   "cell_type": "code",
   "execution_count": 42,
   "metadata": {},
   "outputs": [],
   "source": [
    "x_train = pd.read_csv('datasets/Training_Data_Features.csv')\n",
    "x_train.week_start_date = pd.to_datetime(x_train.week_start_date)\n",
    "\n",
    "y_train = pd.read_csv('datasets/Training_Data_Labels.csv', \n",
    "                      usecols=['total_cases'])\n",
    "\n",
    "x_test = pd.read_csv('datasets/dengue_features_test.csv')\n",
    "x_test.week_start_date = pd.to_datetime(x_test.week_start_date)"
   ]
  },
  {
   "cell_type": "code",
   "execution_count": 43,
   "metadata": {},
   "outputs": [
    {
     "data": {
      "text/html": [
       "<div>\n",
       "<style scoped>\n",
       "    .dataframe tbody tr th:only-of-type {\n",
       "        vertical-align: middle;\n",
       "    }\n",
       "\n",
       "    .dataframe tbody tr th {\n",
       "        vertical-align: top;\n",
       "    }\n",
       "\n",
       "    .dataframe thead th {\n",
       "        text-align: right;\n",
       "    }\n",
       "</style>\n",
       "<table border=\"1\" class=\"dataframe\">\n",
       "  <thead>\n",
       "    <tr style=\"text-align: right;\">\n",
       "      <th></th>\n",
       "      <th>city</th>\n",
       "      <th>year</th>\n",
       "      <th>weekofyear</th>\n",
       "      <th>week_start_date</th>\n",
       "      <th>ndvi_ne</th>\n",
       "      <th>ndvi_nw</th>\n",
       "      <th>ndvi_se</th>\n",
       "      <th>ndvi_sw</th>\n",
       "      <th>precipitation_amt_mm</th>\n",
       "      <th>reanalysis_air_temp_k</th>\n",
       "      <th>reanalysis_avg_temp_k</th>\n",
       "      <th>reanalysis_dew_point_temp_k</th>\n",
       "      <th>reanalysis_max_air_temp_k</th>\n",
       "      <th>reanalysis_min_air_temp_k</th>\n",
       "      <th>reanalysis_precip_amt_kg_per_m2</th>\n",
       "      <th>reanalysis_relative_humidity_percent</th>\n",
       "      <th>reanalysis_sat_precip_amt_mm</th>\n",
       "      <th>reanalysis_specific_humidity_g_per_kg</th>\n",
       "      <th>reanalysis_tdtr_k</th>\n",
       "      <th>station_avg_temp_c</th>\n",
       "      <th>station_diur_temp_rng_c</th>\n",
       "      <th>station_max_temp_c</th>\n",
       "      <th>station_min_temp_c</th>\n",
       "      <th>station_precip_mm</th>\n",
       "    </tr>\n",
       "  </thead>\n",
       "  <tbody>\n",
       "    <tr>\n",
       "      <th>0</th>\n",
       "      <td>sj</td>\n",
       "      <td>1990</td>\n",
       "      <td>18</td>\n",
       "      <td>1990-04-30</td>\n",
       "      <td>0.122600</td>\n",
       "      <td>0.103725</td>\n",
       "      <td>0.198483</td>\n",
       "      <td>0.177617</td>\n",
       "      <td>12.42</td>\n",
       "      <td>297.572857</td>\n",
       "      <td>297.742857</td>\n",
       "      <td>292.414286</td>\n",
       "      <td>299.8</td>\n",
       "      <td>295.9</td>\n",
       "      <td>32.00</td>\n",
       "      <td>73.365714</td>\n",
       "      <td>12.42</td>\n",
       "      <td>14.012857</td>\n",
       "      <td>2.628571</td>\n",
       "      <td>25.442857</td>\n",
       "      <td>6.900000</td>\n",
       "      <td>29.4</td>\n",
       "      <td>20.0</td>\n",
       "      <td>16.0</td>\n",
       "    </tr>\n",
       "    <tr>\n",
       "      <th>1</th>\n",
       "      <td>sj</td>\n",
       "      <td>1990</td>\n",
       "      <td>19</td>\n",
       "      <td>1990-05-07</td>\n",
       "      <td>0.169900</td>\n",
       "      <td>0.142175</td>\n",
       "      <td>0.162357</td>\n",
       "      <td>0.155486</td>\n",
       "      <td>22.82</td>\n",
       "      <td>298.211429</td>\n",
       "      <td>298.442857</td>\n",
       "      <td>293.951429</td>\n",
       "      <td>300.9</td>\n",
       "      <td>296.4</td>\n",
       "      <td>17.94</td>\n",
       "      <td>77.368571</td>\n",
       "      <td>22.82</td>\n",
       "      <td>15.372857</td>\n",
       "      <td>2.371429</td>\n",
       "      <td>26.714286</td>\n",
       "      <td>6.371429</td>\n",
       "      <td>31.7</td>\n",
       "      <td>22.2</td>\n",
       "      <td>8.6</td>\n",
       "    </tr>\n",
       "    <tr>\n",
       "      <th>2</th>\n",
       "      <td>sj</td>\n",
       "      <td>1990</td>\n",
       "      <td>20</td>\n",
       "      <td>1990-05-14</td>\n",
       "      <td>0.032250</td>\n",
       "      <td>0.172967</td>\n",
       "      <td>0.157200</td>\n",
       "      <td>0.170843</td>\n",
       "      <td>34.54</td>\n",
       "      <td>298.781429</td>\n",
       "      <td>298.878571</td>\n",
       "      <td>295.434286</td>\n",
       "      <td>300.5</td>\n",
       "      <td>297.3</td>\n",
       "      <td>26.10</td>\n",
       "      <td>82.052857</td>\n",
       "      <td>34.54</td>\n",
       "      <td>16.848571</td>\n",
       "      <td>2.300000</td>\n",
       "      <td>26.714286</td>\n",
       "      <td>6.485714</td>\n",
       "      <td>32.2</td>\n",
       "      <td>22.8</td>\n",
       "      <td>41.4</td>\n",
       "    </tr>\n",
       "    <tr>\n",
       "      <th>3</th>\n",
       "      <td>sj</td>\n",
       "      <td>1990</td>\n",
       "      <td>21</td>\n",
       "      <td>1990-05-21</td>\n",
       "      <td>0.128633</td>\n",
       "      <td>0.245067</td>\n",
       "      <td>0.227557</td>\n",
       "      <td>0.235886</td>\n",
       "      <td>15.36</td>\n",
       "      <td>298.987143</td>\n",
       "      <td>299.228571</td>\n",
       "      <td>295.310000</td>\n",
       "      <td>301.4</td>\n",
       "      <td>297.0</td>\n",
       "      <td>13.90</td>\n",
       "      <td>80.337143</td>\n",
       "      <td>15.36</td>\n",
       "      <td>16.672857</td>\n",
       "      <td>2.428571</td>\n",
       "      <td>27.471429</td>\n",
       "      <td>6.771429</td>\n",
       "      <td>33.3</td>\n",
       "      <td>23.3</td>\n",
       "      <td>4.0</td>\n",
       "    </tr>\n",
       "    <tr>\n",
       "      <th>4</th>\n",
       "      <td>sj</td>\n",
       "      <td>1990</td>\n",
       "      <td>22</td>\n",
       "      <td>1990-05-28</td>\n",
       "      <td>0.196200</td>\n",
       "      <td>0.262200</td>\n",
       "      <td>0.251200</td>\n",
       "      <td>0.247340</td>\n",
       "      <td>7.52</td>\n",
       "      <td>299.518571</td>\n",
       "      <td>299.664286</td>\n",
       "      <td>295.821429</td>\n",
       "      <td>301.9</td>\n",
       "      <td>297.5</td>\n",
       "      <td>12.20</td>\n",
       "      <td>80.460000</td>\n",
       "      <td>7.52</td>\n",
       "      <td>17.210000</td>\n",
       "      <td>3.014286</td>\n",
       "      <td>28.942857</td>\n",
       "      <td>9.371429</td>\n",
       "      <td>35.0</td>\n",
       "      <td>23.9</td>\n",
       "      <td>5.8</td>\n",
       "    </tr>\n",
       "  </tbody>\n",
       "</table>\n",
       "</div>"
      ],
      "text/plain": [
       "  city  year  weekofyear week_start_date   ndvi_ne   ndvi_nw   ndvi_se  \\\n",
       "0   sj  1990          18      1990-04-30  0.122600  0.103725  0.198483   \n",
       "1   sj  1990          19      1990-05-07  0.169900  0.142175  0.162357   \n",
       "2   sj  1990          20      1990-05-14  0.032250  0.172967  0.157200   \n",
       "3   sj  1990          21      1990-05-21  0.128633  0.245067  0.227557   \n",
       "4   sj  1990          22      1990-05-28  0.196200  0.262200  0.251200   \n",
       "\n",
       "    ndvi_sw  precipitation_amt_mm  reanalysis_air_temp_k  \\\n",
       "0  0.177617                 12.42             297.572857   \n",
       "1  0.155486                 22.82             298.211429   \n",
       "2  0.170843                 34.54             298.781429   \n",
       "3  0.235886                 15.36             298.987143   \n",
       "4  0.247340                  7.52             299.518571   \n",
       "\n",
       "   reanalysis_avg_temp_k  reanalysis_dew_point_temp_k  \\\n",
       "0             297.742857                   292.414286   \n",
       "1             298.442857                   293.951429   \n",
       "2             298.878571                   295.434286   \n",
       "3             299.228571                   295.310000   \n",
       "4             299.664286                   295.821429   \n",
       "\n",
       "   reanalysis_max_air_temp_k  reanalysis_min_air_temp_k  \\\n",
       "0                      299.8                      295.9   \n",
       "1                      300.9                      296.4   \n",
       "2                      300.5                      297.3   \n",
       "3                      301.4                      297.0   \n",
       "4                      301.9                      297.5   \n",
       "\n",
       "   reanalysis_precip_amt_kg_per_m2  reanalysis_relative_humidity_percent  \\\n",
       "0                            32.00                             73.365714   \n",
       "1                            17.94                             77.368571   \n",
       "2                            26.10                             82.052857   \n",
       "3                            13.90                             80.337143   \n",
       "4                            12.20                             80.460000   \n",
       "\n",
       "   reanalysis_sat_precip_amt_mm  reanalysis_specific_humidity_g_per_kg  \\\n",
       "0                         12.42                              14.012857   \n",
       "1                         22.82                              15.372857   \n",
       "2                         34.54                              16.848571   \n",
       "3                         15.36                              16.672857   \n",
       "4                          7.52                              17.210000   \n",
       "\n",
       "   reanalysis_tdtr_k  station_avg_temp_c  station_diur_temp_rng_c  \\\n",
       "0           2.628571           25.442857                 6.900000   \n",
       "1           2.371429           26.714286                 6.371429   \n",
       "2           2.300000           26.714286                 6.485714   \n",
       "3           2.428571           27.471429                 6.771429   \n",
       "4           3.014286           28.942857                 9.371429   \n",
       "\n",
       "   station_max_temp_c  station_min_temp_c  station_precip_mm  \n",
       "0                29.4                20.0               16.0  \n",
       "1                31.7                22.2                8.6  \n",
       "2                32.2                22.8               41.4  \n",
       "3                33.3                23.3                4.0  \n",
       "4                35.0                23.9                5.8  "
      ]
     },
     "execution_count": 43,
     "metadata": {},
     "output_type": "execute_result"
    }
   ],
   "source": [
    "x_train.head()"
   ]
  },
  {
   "cell_type": "code",
   "execution_count": 44,
   "metadata": {},
   "outputs": [
    {
     "data": {
      "text/html": [
       "<div>\n",
       "<style scoped>\n",
       "    .dataframe tbody tr th:only-of-type {\n",
       "        vertical-align: middle;\n",
       "    }\n",
       "\n",
       "    .dataframe tbody tr th {\n",
       "        vertical-align: top;\n",
       "    }\n",
       "\n",
       "    .dataframe thead th {\n",
       "        text-align: right;\n",
       "    }\n",
       "</style>\n",
       "<table border=\"1\" class=\"dataframe\">\n",
       "  <thead>\n",
       "    <tr style=\"text-align: right;\">\n",
       "      <th></th>\n",
       "      <th>total_cases</th>\n",
       "    </tr>\n",
       "  </thead>\n",
       "  <tbody>\n",
       "    <tr>\n",
       "      <th>0</th>\n",
       "      <td>4</td>\n",
       "    </tr>\n",
       "    <tr>\n",
       "      <th>1</th>\n",
       "      <td>5</td>\n",
       "    </tr>\n",
       "    <tr>\n",
       "      <th>2</th>\n",
       "      <td>4</td>\n",
       "    </tr>\n",
       "    <tr>\n",
       "      <th>3</th>\n",
       "      <td>3</td>\n",
       "    </tr>\n",
       "    <tr>\n",
       "      <th>4</th>\n",
       "      <td>6</td>\n",
       "    </tr>\n",
       "  </tbody>\n",
       "</table>\n",
       "</div>"
      ],
      "text/plain": [
       "   total_cases\n",
       "0            4\n",
       "1            5\n",
       "2            4\n",
       "3            3\n",
       "4            6"
      ]
     },
     "execution_count": 44,
     "metadata": {},
     "output_type": "execute_result"
    }
   ],
   "source": [
    "y_train.head()"
   ]
  },
  {
   "cell_type": "code",
   "execution_count": 45,
   "metadata": {},
   "outputs": [
    {
     "data": {
      "text/html": [
       "<div>\n",
       "<style scoped>\n",
       "    .dataframe tbody tr th:only-of-type {\n",
       "        vertical-align: middle;\n",
       "    }\n",
       "\n",
       "    .dataframe tbody tr th {\n",
       "        vertical-align: top;\n",
       "    }\n",
       "\n",
       "    .dataframe thead th {\n",
       "        text-align: right;\n",
       "    }\n",
       "</style>\n",
       "<table border=\"1\" class=\"dataframe\">\n",
       "  <thead>\n",
       "    <tr style=\"text-align: right;\">\n",
       "      <th></th>\n",
       "      <th>total_cases</th>\n",
       "      <th>city</th>\n",
       "      <th>year</th>\n",
       "      <th>weekofyear</th>\n",
       "      <th>week_start_date</th>\n",
       "      <th>ndvi_ne</th>\n",
       "      <th>ndvi_nw</th>\n",
       "      <th>ndvi_se</th>\n",
       "      <th>ndvi_sw</th>\n",
       "      <th>precipitation_amt_mm</th>\n",
       "      <th>reanalysis_air_temp_k</th>\n",
       "      <th>reanalysis_avg_temp_k</th>\n",
       "      <th>reanalysis_dew_point_temp_k</th>\n",
       "      <th>reanalysis_max_air_temp_k</th>\n",
       "      <th>reanalysis_min_air_temp_k</th>\n",
       "      <th>reanalysis_precip_amt_kg_per_m2</th>\n",
       "      <th>reanalysis_relative_humidity_percent</th>\n",
       "      <th>reanalysis_sat_precip_amt_mm</th>\n",
       "      <th>reanalysis_specific_humidity_g_per_kg</th>\n",
       "      <th>reanalysis_tdtr_k</th>\n",
       "      <th>station_avg_temp_c</th>\n",
       "      <th>station_diur_temp_rng_c</th>\n",
       "      <th>station_max_temp_c</th>\n",
       "      <th>station_min_temp_c</th>\n",
       "      <th>station_precip_mm</th>\n",
       "    </tr>\n",
       "  </thead>\n",
       "  <tbody>\n",
       "    <tr>\n",
       "      <th>0</th>\n",
       "      <td>4</td>\n",
       "      <td>sj</td>\n",
       "      <td>1990</td>\n",
       "      <td>18</td>\n",
       "      <td>1990-04-30</td>\n",
       "      <td>0.122600</td>\n",
       "      <td>0.103725</td>\n",
       "      <td>0.198483</td>\n",
       "      <td>0.177617</td>\n",
       "      <td>12.42</td>\n",
       "      <td>297.572857</td>\n",
       "      <td>297.742857</td>\n",
       "      <td>292.414286</td>\n",
       "      <td>299.8</td>\n",
       "      <td>295.9</td>\n",
       "      <td>32.00</td>\n",
       "      <td>73.365714</td>\n",
       "      <td>12.42</td>\n",
       "      <td>14.012857</td>\n",
       "      <td>2.628571</td>\n",
       "      <td>25.442857</td>\n",
       "      <td>6.900000</td>\n",
       "      <td>29.4</td>\n",
       "      <td>20.0</td>\n",
       "      <td>16.0</td>\n",
       "    </tr>\n",
       "    <tr>\n",
       "      <th>1</th>\n",
       "      <td>5</td>\n",
       "      <td>sj</td>\n",
       "      <td>1990</td>\n",
       "      <td>19</td>\n",
       "      <td>1990-05-07</td>\n",
       "      <td>0.169900</td>\n",
       "      <td>0.142175</td>\n",
       "      <td>0.162357</td>\n",
       "      <td>0.155486</td>\n",
       "      <td>22.82</td>\n",
       "      <td>298.211429</td>\n",
       "      <td>298.442857</td>\n",
       "      <td>293.951429</td>\n",
       "      <td>300.9</td>\n",
       "      <td>296.4</td>\n",
       "      <td>17.94</td>\n",
       "      <td>77.368571</td>\n",
       "      <td>22.82</td>\n",
       "      <td>15.372857</td>\n",
       "      <td>2.371429</td>\n",
       "      <td>26.714286</td>\n",
       "      <td>6.371429</td>\n",
       "      <td>31.7</td>\n",
       "      <td>22.2</td>\n",
       "      <td>8.6</td>\n",
       "    </tr>\n",
       "    <tr>\n",
       "      <th>2</th>\n",
       "      <td>4</td>\n",
       "      <td>sj</td>\n",
       "      <td>1990</td>\n",
       "      <td>20</td>\n",
       "      <td>1990-05-14</td>\n",
       "      <td>0.032250</td>\n",
       "      <td>0.172967</td>\n",
       "      <td>0.157200</td>\n",
       "      <td>0.170843</td>\n",
       "      <td>34.54</td>\n",
       "      <td>298.781429</td>\n",
       "      <td>298.878571</td>\n",
       "      <td>295.434286</td>\n",
       "      <td>300.5</td>\n",
       "      <td>297.3</td>\n",
       "      <td>26.10</td>\n",
       "      <td>82.052857</td>\n",
       "      <td>34.54</td>\n",
       "      <td>16.848571</td>\n",
       "      <td>2.300000</td>\n",
       "      <td>26.714286</td>\n",
       "      <td>6.485714</td>\n",
       "      <td>32.2</td>\n",
       "      <td>22.8</td>\n",
       "      <td>41.4</td>\n",
       "    </tr>\n",
       "    <tr>\n",
       "      <th>3</th>\n",
       "      <td>3</td>\n",
       "      <td>sj</td>\n",
       "      <td>1990</td>\n",
       "      <td>21</td>\n",
       "      <td>1990-05-21</td>\n",
       "      <td>0.128633</td>\n",
       "      <td>0.245067</td>\n",
       "      <td>0.227557</td>\n",
       "      <td>0.235886</td>\n",
       "      <td>15.36</td>\n",
       "      <td>298.987143</td>\n",
       "      <td>299.228571</td>\n",
       "      <td>295.310000</td>\n",
       "      <td>301.4</td>\n",
       "      <td>297.0</td>\n",
       "      <td>13.90</td>\n",
       "      <td>80.337143</td>\n",
       "      <td>15.36</td>\n",
       "      <td>16.672857</td>\n",
       "      <td>2.428571</td>\n",
       "      <td>27.471429</td>\n",
       "      <td>6.771429</td>\n",
       "      <td>33.3</td>\n",
       "      <td>23.3</td>\n",
       "      <td>4.0</td>\n",
       "    </tr>\n",
       "    <tr>\n",
       "      <th>4</th>\n",
       "      <td>6</td>\n",
       "      <td>sj</td>\n",
       "      <td>1990</td>\n",
       "      <td>22</td>\n",
       "      <td>1990-05-28</td>\n",
       "      <td>0.196200</td>\n",
       "      <td>0.262200</td>\n",
       "      <td>0.251200</td>\n",
       "      <td>0.247340</td>\n",
       "      <td>7.52</td>\n",
       "      <td>299.518571</td>\n",
       "      <td>299.664286</td>\n",
       "      <td>295.821429</td>\n",
       "      <td>301.9</td>\n",
       "      <td>297.5</td>\n",
       "      <td>12.20</td>\n",
       "      <td>80.460000</td>\n",
       "      <td>7.52</td>\n",
       "      <td>17.210000</td>\n",
       "      <td>3.014286</td>\n",
       "      <td>28.942857</td>\n",
       "      <td>9.371429</td>\n",
       "      <td>35.0</td>\n",
       "      <td>23.9</td>\n",
       "      <td>5.8</td>\n",
       "    </tr>\n",
       "  </tbody>\n",
       "</table>\n",
       "</div>"
      ],
      "text/plain": [
       "   total_cases city  year  weekofyear week_start_date   ndvi_ne   ndvi_nw  \\\n",
       "0            4   sj  1990          18      1990-04-30  0.122600  0.103725   \n",
       "1            5   sj  1990          19      1990-05-07  0.169900  0.142175   \n",
       "2            4   sj  1990          20      1990-05-14  0.032250  0.172967   \n",
       "3            3   sj  1990          21      1990-05-21  0.128633  0.245067   \n",
       "4            6   sj  1990          22      1990-05-28  0.196200  0.262200   \n",
       "\n",
       "    ndvi_se   ndvi_sw  precipitation_amt_mm  reanalysis_air_temp_k  \\\n",
       "0  0.198483  0.177617                 12.42             297.572857   \n",
       "1  0.162357  0.155486                 22.82             298.211429   \n",
       "2  0.157200  0.170843                 34.54             298.781429   \n",
       "3  0.227557  0.235886                 15.36             298.987143   \n",
       "4  0.251200  0.247340                  7.52             299.518571   \n",
       "\n",
       "   reanalysis_avg_temp_k  reanalysis_dew_point_temp_k  \\\n",
       "0             297.742857                   292.414286   \n",
       "1             298.442857                   293.951429   \n",
       "2             298.878571                   295.434286   \n",
       "3             299.228571                   295.310000   \n",
       "4             299.664286                   295.821429   \n",
       "\n",
       "   reanalysis_max_air_temp_k  reanalysis_min_air_temp_k  \\\n",
       "0                      299.8                      295.9   \n",
       "1                      300.9                      296.4   \n",
       "2                      300.5                      297.3   \n",
       "3                      301.4                      297.0   \n",
       "4                      301.9                      297.5   \n",
       "\n",
       "   reanalysis_precip_amt_kg_per_m2  reanalysis_relative_humidity_percent  \\\n",
       "0                            32.00                             73.365714   \n",
       "1                            17.94                             77.368571   \n",
       "2                            26.10                             82.052857   \n",
       "3                            13.90                             80.337143   \n",
       "4                            12.20                             80.460000   \n",
       "\n",
       "   reanalysis_sat_precip_amt_mm  reanalysis_specific_humidity_g_per_kg  \\\n",
       "0                         12.42                              14.012857   \n",
       "1                         22.82                              15.372857   \n",
       "2                         34.54                              16.848571   \n",
       "3                         15.36                              16.672857   \n",
       "4                          7.52                              17.210000   \n",
       "\n",
       "   reanalysis_tdtr_k  station_avg_temp_c  station_diur_temp_rng_c  \\\n",
       "0           2.628571           25.442857                 6.900000   \n",
       "1           2.371429           26.714286                 6.371429   \n",
       "2           2.300000           26.714286                 6.485714   \n",
       "3           2.428571           27.471429                 6.771429   \n",
       "4           3.014286           28.942857                 9.371429   \n",
       "\n",
       "   station_max_temp_c  station_min_temp_c  station_precip_mm  \n",
       "0                29.4                20.0               16.0  \n",
       "1                31.7                22.2                8.6  \n",
       "2                32.2                22.8               41.4  \n",
       "3                33.3                23.3                4.0  \n",
       "4                35.0                23.9                5.8  "
      ]
     },
     "execution_count": 45,
     "metadata": {},
     "output_type": "execute_result"
    }
   ],
   "source": [
    "xy_train = pd.concat([y_train, x_train], axis=1)  # concatanate training data and labels\n",
    "xy_train.head()"
   ]
  },
  {
   "cell_type": "code",
   "execution_count": 46,
   "metadata": {},
   "outputs": [],
   "source": [
    "#split the dataset into two according to the city\n",
    "xy_sj = xy_train.loc[xy_train.city == 'sj', :]\n",
    "xy_iq = xy_train.loc[xy_train.city == 'iq', :]"
   ]
  },
  {
   "cell_type": "code",
   "execution_count": 47,
   "metadata": {},
   "outputs": [
    {
     "data": {
      "text/plain": [
       "total_cases                              1.000000\n",
       "reanalysis_specific_humidity_g_per_kg    0.236476\n",
       "reanalysis_dew_point_temp_k              0.230401\n",
       "reanalysis_min_air_temp_k                0.214514\n",
       "station_min_temp_c                       0.211702\n",
       "year                                     0.179451\n",
       "reanalysis_relative_humidity_percent     0.130083\n",
       "station_avg_temp_c                       0.113070\n",
       "reanalysis_precip_amt_kg_per_m2          0.101171\n",
       "reanalysis_air_temp_k                    0.097098\n",
       "precipitation_amt_mm                     0.090171\n",
       "reanalysis_sat_precip_amt_mm             0.090171\n",
       "reanalysis_avg_temp_k                    0.079872\n",
       "station_max_temp_c                       0.075279\n",
       "station_precip_mm                        0.042976\n",
       "ndvi_sw                                  0.032999\n",
       "ndvi_ne                                  0.020215\n",
       "ndvi_nw                                 -0.009586\n",
       "weekofyear                              -0.011850\n",
       "ndvi_se                                 -0.041067\n",
       "reanalysis_max_air_temp_k               -0.056474\n",
       "station_diur_temp_rng_c                 -0.058230\n",
       "reanalysis_tdtr_k                       -0.134425\n",
       "Name: total_cases, dtype: float64"
      ]
     },
     "execution_count": 47,
     "metadata": {},
     "output_type": "execute_result"
    }
   ],
   "source": [
    "#calculate the correlation between each attribut with total_cases\n",
    "xy_sj.corr().total_cases.sort_values(ascending=False) \n",
    "xy_iq.corr().total_cases.sort_values(ascending=False)"
   ]
  },
  {
   "cell_type": "code",
   "execution_count": 48,
   "metadata": {},
   "outputs": [
    {
     "data": {
      "image/png": "[encoded data removed]",
      "text/plain": [
       "<Figure size 576x396 with 1 Axes>"
      ]
     },
     "metadata": {},
     "output_type": "display_data"
    }
   ],
   "source": [
    "xy_sj.total_cases.plot(kind='line')\n",
    "plt.xlabel('Week Number')\n",
    "plt.ylabel('Total Cases')\n",
    "plt.tight_layout()"
   ]
  },
  {
   "cell_type": "code",
   "execution_count": 49,
   "metadata": {},
   "outputs": [
    {
     "data": {
      "image/png": "[encoded data removed]",
      "text/plain": [
       "<Figure size 576x396 with 1 Axes>"
      ]
     },
     "metadata": {},
     "output_type": "display_data"
    }
   ],
   "source": [
    "xy_sj.groupby(['weekofyear']).total_cases.sum().plot(kind='line')\n",
    "plt.ylabel('total cases')\n",
    "plt.title('Total Cases by Week of Year (San Juan)')\n",
    "plt.tight_layout()"
   ]
  },
  {
   "cell_type": "code",
   "execution_count": 50,
   "metadata": {},
   "outputs": [
    {
     "data": {
      "image/png": "[encoded data removed]",
      "text/plain": [
       "<Figure size 576x396 with 1 Axes>"
      ]
     },
     "metadata": {},
     "output_type": "display_data"
    }
   ],
   "source": [
    "xy_sj.reanalysis_dew_point_temp_k.plot(kind='line')\n",
    "plt.xlabel('Week Number')\n",
    "plt.ylabel('Dew Point Temp (k) ')\n",
    "plt.tight_layout()"
   ]
  },
  {
   "cell_type": "code",
   "execution_count": 51,
   "metadata": {},
   "outputs": [
    {
     "data": {
      "image/png": "[encoded data removed]",
      "text/plain": [
       "<Figure size 576x396 with 1 Axes>"
      ]
     },
     "metadata": {},
     "output_type": "display_data"
    }
   ],
   "source": [
    "xy_sj.reanalysis_specific_humidity_g_per_kg.plot(kind='line')\n",
    "plt.xlabel('Week Number')\n",
    "plt.ylabel('Specific Humidity (g/kg)')\n",
    "plt.tight_layout()"
   ]
  },
  {
   "cell_type": "code",
   "execution_count": 52,
   "metadata": {},
   "outputs": [
    {
     "data": {
      "image/png": "[encoded data removed]",
      "text/plain": [
       "<Figure size 576x396 with 1 Axes>"
      ]
     },
     "metadata": {},
     "output_type": "display_data"
    }
   ],
   "source": [
    "xy_sj.station_avg_temp_c.rolling(window=13, min_periods=1).mean().plot(kind='line')\n",
    "plt.xlabel('Week Number')\n",
    "plt.ylabel('Temperature (c)')\n",
    "plt.tight_layout()\n"
   ]
  },
  {
   "cell_type": "code",
   "execution_count": 53,
   "metadata": {},
   "outputs": [
    {
     "name": "stdout",
     "output_type": "stream",
     "text": [
      "<class 'pandas.core.frame.DataFrame'>\n",
      "RangeIndex: 1456 entries, 0 to 1455\n",
      "Data columns (total 24 columns):\n",
      "city                                     1456 non-null object\n",
      "year                                     1456 non-null int64\n",
      "weekofyear                               1456 non-null int64\n",
      "week_start_date                          1456 non-null datetime64[ns]\n",
      "ndvi_ne                                  1262 non-null float64\n",
      "ndvi_nw                                  1404 non-null float64\n",
      "ndvi_se                                  1434 non-null float64\n",
      "ndvi_sw                                  1434 non-null float64\n",
      "precipitation_amt_mm                     1443 non-null float64\n",
      "reanalysis_air_temp_k                    1446 non-null float64\n",
      "reanalysis_avg_temp_k                    1446 non-null float64\n",
      "reanalysis_dew_point_temp_k              1446 non-null float64\n",
      "reanalysis_max_air_temp_k                1446 non-null float64\n",
      "reanalysis_min_air_temp_k                1446 non-null float64\n",
      "reanalysis_precip_amt_kg_per_m2          1446 non-null float64\n",
      "reanalysis_relative_humidity_percent     1446 non-null float64\n",
      "reanalysis_sat_precip_amt_mm             1443 non-null float64\n",
      "reanalysis_specific_humidity_g_per_kg    1446 non-null float64\n",
      "reanalysis_tdtr_k                        1446 non-null float64\n",
      "station_avg_temp_c                       1413 non-null float64\n",
      "station_diur_temp_rng_c                  1413 non-null float64\n",
      "station_max_temp_c                       1436 non-null float64\n",
      "station_min_temp_c                       1442 non-null float64\n",
      "station_precip_mm                        1434 non-null float64\n",
      "dtypes: datetime64[ns](1), float64(20), int64(2), object(1)\n",
      "memory usage: 273.1+ KB\n"
     ]
    }
   ],
   "source": [
    "x_train.info()"
   ]
  },
  {
   "cell_type": "code",
   "execution_count": 54,
   "metadata": {},
   "outputs": [],
   "source": [
    "x_train = x_train.reset_index()\n",
    "x_test = x_test.reset_index()\n",
    "\n",
    "x_train_sj = x_train.loc[x_train.city == 'sj', :].copy()\n",
    "x_train_iq = x_train.loc[x_train.city == 'iq', :].copy()\n",
    "\n",
    "y_train_sj = y_train.loc[x_train.city == 'sj', :].copy()\n",
    "y_train_iq = y_train.loc[x_train.city == 'iq', :].copy()\n",
    "\n",
    "x_test_sj = x_test.loc[x_test.city == 'sj', :].copy()\n",
    "x_test_iq = x_test.loc[x_test.city == 'iq', :].copy()"
   ]
  },
  {
   "cell_type": "code",
   "execution_count": 55,
   "metadata": {},
   "outputs": [
    {
     "name": "stdout",
     "output_type": "stream",
     "text": [
      "['ndvi_ne', 'reanalysis_sat_precip_amt_mm', 'ndvi_se', 'reanalysis_relative_humidity_percent', 'reanalysis_max_air_temp_k', 'reanalysis_min_air_temp_k', 'ndvi_sw', 'ndvi_nw', 'reanalysis_tdtr_k', 'station_precip_mm', 'reanalysis_air_temp_k', 'precipitation_amt_mm', 'reanalysis_avg_temp_k', 'station_diur_temp_rng_c']\n"
     ]
    }
   ],
   "source": [
    "keys = ['city', 'year', 'weekofyear']\n",
    "\n",
    "features = ['city', 'year', 'weekofyear', 'week_start_date', 'ndvi_ne', 'ndvi_nw',\n",
    "       'ndvi_se', 'ndvi_sw', 'precipitation_amt_mm', 'reanalysis_air_temp_k',\n",
    "       'reanalysis_avg_temp_k', 'reanalysis_dew_point_temp_k',\n",
    "       'reanalysis_max_air_temp_k', 'reanalysis_min_air_temp_k',\n",
    "       'reanalysis_precip_amt_kg_per_m2',\n",
    "       'reanalysis_relative_humidity_percent', 'reanalysis_sat_precip_amt_mm',\n",
    "       'reanalysis_specific_humidity_g_per_kg', 'reanalysis_tdtr_k',\n",
    "       'station_avg_temp_c', 'station_diur_temp_rng_c', 'station_max_temp_c',\n",
    "       'station_min_temp_c', 'station_precip_mm']\n",
    "\n",
    "selected_features = ['reanalysis_dew_point_temp_k', 'reanalysis_precip_amt_kg_per_m2', 'reanalysis_specific_humidity_g_per_kg', \n",
    "            'station_avg_temp_c',  'station_max_temp_c', 'station_min_temp_c']\n",
    "\n",
    "new_features = ['recent_mean_dew_point', 'recent_mean_spec_humid', 'recent_sum_precip']\n",
    "\n",
    "time_series_features = ['week_start_date']\n",
    "\n",
    "drop_features = list(set(features) - set(selected_features) - set(keys) - set(time_series_features))\n",
    "print drop_features"
   ]
  },
  {
   "cell_type": "markdown",
   "metadata": {},
   "source": [
    "## impute missing values using redundent features"
   ]
  },
  {
   "cell_type": "code",
   "execution_count": 56,
   "metadata": {},
   "outputs": [],
   "source": [
    "impute_columns = ['reanalysis_avg_temp_c', 'reanalysis_max_air_temp_c', \n",
    "                  'reanalysis_min_air_temp_c']\n",
    "\n",
    "def impute_redundant_features(df):\n",
    "    df['reanalysis_avg_temp_c'] = df.reanalysis_avg_temp_k - 273.15\n",
    "    df.reanalysis_avg_temp_c -= (df.reanalysis_avg_temp_c - df.station_avg_temp_c).mean()\n",
    "    df.loc[df.station_avg_temp_c.isnull(), 'station_avg_temp_c'] = df.reanalysis_avg_temp_c\n",
    "\n",
    "    df['reanalysis_max_air_temp_c'] = df.reanalysis_max_air_temp_k - 273.15\n",
    "    df.reanalysis_max_air_temp_c -= (df.reanalysis_max_air_temp_c - df.station_max_temp_c).mean()\n",
    "    df.loc[df.station_max_temp_c.isnull(), 'station_max_temp_c'] = df.reanalysis_max_air_temp_c\n",
    "\n",
    "    df['reanalysis_min_air_temp_c'] = df.reanalysis_min_air_temp_k - 273.15\n",
    "    df.reanalysis_min_air_temp_c -= (df.reanalysis_min_air_temp_c - df.station_min_temp_c).mean()\n",
    "    df.loc[df.station_min_temp_c.isnull(), 'station_min_temp_c'] = df.reanalysis_min_air_temp_c\n",
    "    \n",
    "    df.drop(impute_columns, axis=1, inplace=True) # drop temperary columns used to impute missing features\n",
    "    \n",
    "    return df"
   ]
  },
  {
   "cell_type": "code",
   "execution_count": 57,
   "metadata": {},
   "outputs": [],
   "source": [
    "x_train_sj = impute_redundant_features(x_train_sj)\n",
    "x_train_iq = impute_redundant_features(x_train_iq)\n",
    "\n",
    "x_test_sj = impute_redundant_features(x_test_sj)\n",
    "x_test_iq = impute_redundant_features(x_test_iq)"
   ]
  },
  {
   "cell_type": "code",
   "execution_count": 58,
   "metadata": {},
   "outputs": [],
   "source": [
    "#impute other missing values \n",
    "def impute_missing_values(df, imputer): \n",
    "    imputer.fit(df[selected_features])\n",
    "    df[selected_features] = imputer.transform(df[selected_features])\n",
    "    return df"
   ]
  },
  {
   "cell_type": "code",
   "execution_count": 59,
   "metadata": {},
   "outputs": [],
   "source": [
    "imputer_sj = Imputer(strategy='mean')\n",
    "x_train_sj = impute_missing_values(x_train_sj, imputer_sj)\n",
    "x_test_sj = impute_missing_values(x_test_sj, imputer_sj)\n",
    "\n",
    "imputer_iq = Imputer(strategy='mean')\n",
    "x_train_iq = impute_missing_values(x_train_iq, imputer_iq)\n",
    "x_test_iq = impute_missing_values(x_test_iq, imputer_iq)"
   ]
  },
  {
   "cell_type": "markdown",
   "metadata": {},
   "source": [
    "## adding new features using time series data"
   ]
  },
  {
   "cell_type": "code",
   "execution_count": 60,
   "metadata": {},
   "outputs": [],
   "source": [
    "def add_time_series_features(df, window):\n",
    "    df.set_index('week_start_date', inplace=True)\n",
    "    #use time series data for dew point, humidity, and precipitation.\n",
    "    roll_df = df.rolling(window=window, min_periods=1)\n",
    "    df['recent_mean_dew_point'] = roll_df.reanalysis_dew_point_temp_k.mean()\n",
    "    df['recent_mean_spec_humid'] = roll_df.reanalysis_specific_humidity_g_per_kg.mean()\n",
    "    df['recent_sum_precip'] = roll_df.reanalysis_precip_amt_kg_per_m2.sum()\n",
    "    df.reset_index(inplace=True)    \n",
    "    return df"
   ]
  },
  {
   "cell_type": "code",
   "execution_count": 61,
   "metadata": {},
   "outputs": [],
   "source": [
    "# adding time series data using a rolling window for sj and iq data\n",
    "x_train_sj = add_time_series_features(x_train_sj, window=100)\n",
    "x_train_iq = add_time_series_features(x_train_iq, window=30)\n",
    "x_test_sj = add_time_series_features(x_test_sj, window=100)\n",
    "x_test_iq = add_time_series_features(x_test_iq, window=30)"
   ]
  },
  {
   "cell_type": "code",
   "execution_count": 62,
   "metadata": {},
   "outputs": [
    {
     "data": {
      "text/html": [
       "<div>\n",
       "<style scoped>\n",
       "    .dataframe tbody tr th:only-of-type {\n",
       "        vertical-align: middle;\n",
       "    }\n",
       "\n",
       "    .dataframe tbody tr th {\n",
       "        vertical-align: top;\n",
       "    }\n",
       "\n",
       "    .dataframe thead th {\n",
       "        text-align: right;\n",
       "    }\n",
       "</style>\n",
       "<table border=\"1\" class=\"dataframe\">\n",
       "  <thead>\n",
       "    <tr style=\"text-align: right;\">\n",
       "      <th></th>\n",
       "      <th>index</th>\n",
       "      <th>city</th>\n",
       "      <th>year</th>\n",
       "      <th>weekofyear</th>\n",
       "      <th>reanalysis_dew_point_temp_k</th>\n",
       "      <th>reanalysis_precip_amt_kg_per_m2</th>\n",
       "      <th>reanalysis_specific_humidity_g_per_kg</th>\n",
       "      <th>station_avg_temp_c</th>\n",
       "      <th>station_max_temp_c</th>\n",
       "      <th>station_min_temp_c</th>\n",
       "      <th>recent_mean_dew_point</th>\n",
       "      <th>recent_mean_spec_humid</th>\n",
       "      <th>recent_sum_precip</th>\n",
       "    </tr>\n",
       "  </thead>\n",
       "  <tbody>\n",
       "    <tr>\n",
       "      <th>0</th>\n",
       "      <td>0</td>\n",
       "      <td>sj</td>\n",
       "      <td>1990</td>\n",
       "      <td>18</td>\n",
       "      <td>292.414286</td>\n",
       "      <td>32.00</td>\n",
       "      <td>14.012857</td>\n",
       "      <td>25.442857</td>\n",
       "      <td>29.4</td>\n",
       "      <td>20.0</td>\n",
       "      <td>292.414286</td>\n",
       "      <td>14.012857</td>\n",
       "      <td>32.00</td>\n",
       "    </tr>\n",
       "    <tr>\n",
       "      <th>1</th>\n",
       "      <td>1</td>\n",
       "      <td>sj</td>\n",
       "      <td>1990</td>\n",
       "      <td>19</td>\n",
       "      <td>293.951429</td>\n",
       "      <td>17.94</td>\n",
       "      <td>15.372857</td>\n",
       "      <td>26.714286</td>\n",
       "      <td>31.7</td>\n",
       "      <td>22.2</td>\n",
       "      <td>293.182857</td>\n",
       "      <td>14.692857</td>\n",
       "      <td>49.94</td>\n",
       "    </tr>\n",
       "    <tr>\n",
       "      <th>2</th>\n",
       "      <td>2</td>\n",
       "      <td>sj</td>\n",
       "      <td>1990</td>\n",
       "      <td>20</td>\n",
       "      <td>295.434286</td>\n",
       "      <td>26.10</td>\n",
       "      <td>16.848571</td>\n",
       "      <td>26.714286</td>\n",
       "      <td>32.2</td>\n",
       "      <td>22.8</td>\n",
       "      <td>293.933333</td>\n",
       "      <td>15.411429</td>\n",
       "      <td>76.04</td>\n",
       "    </tr>\n",
       "    <tr>\n",
       "      <th>3</th>\n",
       "      <td>3</td>\n",
       "      <td>sj</td>\n",
       "      <td>1990</td>\n",
       "      <td>21</td>\n",
       "      <td>295.310000</td>\n",
       "      <td>13.90</td>\n",
       "      <td>16.672857</td>\n",
       "      <td>27.471429</td>\n",
       "      <td>33.3</td>\n",
       "      <td>23.3</td>\n",
       "      <td>294.277500</td>\n",
       "      <td>15.726786</td>\n",
       "      <td>89.94</td>\n",
       "    </tr>\n",
       "    <tr>\n",
       "      <th>4</th>\n",
       "      <td>4</td>\n",
       "      <td>sj</td>\n",
       "      <td>1990</td>\n",
       "      <td>22</td>\n",
       "      <td>295.821429</td>\n",
       "      <td>12.20</td>\n",
       "      <td>17.210000</td>\n",
       "      <td>28.942857</td>\n",
       "      <td>35.0</td>\n",
       "      <td>23.9</td>\n",
       "      <td>294.586286</td>\n",
       "      <td>16.023429</td>\n",
       "      <td>102.14</td>\n",
       "    </tr>\n",
       "  </tbody>\n",
       "</table>\n",
       "</div>"
      ],
      "text/plain": [
       "   index city  year  weekofyear  reanalysis_dew_point_temp_k  \\\n",
       "0      0   sj  1990          18                   292.414286   \n",
       "1      1   sj  1990          19                   293.951429   \n",
       "2      2   sj  1990          20                   295.434286   \n",
       "3      3   sj  1990          21                   295.310000   \n",
       "4      4   sj  1990          22                   295.821429   \n",
       "\n",
       "   reanalysis_precip_amt_kg_per_m2  reanalysis_specific_humidity_g_per_kg  \\\n",
       "0                            32.00                              14.012857   \n",
       "1                            17.94                              15.372857   \n",
       "2                            26.10                              16.848571   \n",
       "3                            13.90                              16.672857   \n",
       "4                            12.20                              17.210000   \n",
       "\n",
       "   station_avg_temp_c  station_max_temp_c  station_min_temp_c  \\\n",
       "0           25.442857                29.4                20.0   \n",
       "1           26.714286                31.7                22.2   \n",
       "2           26.714286                32.2                22.8   \n",
       "3           27.471429                33.3                23.3   \n",
       "4           28.942857                35.0                23.9   \n",
       "\n",
       "   recent_mean_dew_point  recent_mean_spec_humid  recent_sum_precip  \n",
       "0             292.414286               14.012857              32.00  \n",
       "1             293.182857               14.692857              49.94  \n",
       "2             293.933333               15.411429              76.04  \n",
       "3             294.277500               15.726786              89.94  \n",
       "4             294.586286               16.023429             102.14  "
      ]
     },
     "execution_count": 62,
     "metadata": {},
     "output_type": "execute_result"
    }
   ],
   "source": [
    "def drop_unwanted_features(df):\n",
    "    df.drop(drop_features, axis=1, inplace=True)\n",
    "    df.drop(time_series_features, axis=1, inplace=True)\n",
    "    return df\n",
    "\n",
    "x_train_sj = drop_unwanted_features(x_train_sj)\n",
    "x_train_iq = drop_unwanted_features(x_train_iq)\n",
    "x_test_sj = drop_unwanted_features(x_test_sj)\n",
    "x_test_iq = drop_unwanted_features(x_test_iq)\n",
    "\n",
    "x_train_sj.head()"
   ]
  },
  {
   "cell_type": "markdown",
   "metadata": {},
   "source": [
    "## normalize feature values"
   ]
  },
  {
   "cell_type": "code",
   "execution_count": 63,
   "metadata": {},
   "outputs": [],
   "source": [
    "def normalize(feature):\n",
    "    return (feature - feature.mean()) / feature.std()\n",
    "\n",
    "features_to_normalize = selected_features + new_features\n",
    "\n",
    "x_train_sj[features_to_normalize] = x_train_sj[features_to_normalize].apply(normalize, axis=0)\n",
    "x_train_iq[features_to_normalize] = x_train_iq[features_to_normalize].apply(normalize, axis=0)\n",
    "x_test_sj[features_to_normalize] = x_test_sj[features_to_normalize].apply(normalize, axis=0)\n",
    "x_test_iq[features_to_normalize] = x_test_iq[features_to_normalize].apply(normalize, axis=0)"
   ]
  },
  {
   "cell_type": "code",
   "execution_count": 64,
   "metadata": {},
   "outputs": [],
   "source": [
    "x_train = pd.concat([x_train_sj, x_train_iq], axis=0)\n",
    "x_train.set_index('index', inplace=True)\n",
    "# x_train.head()\n",
    "x_sj, y_sj = x_train.loc[x_train.city == 'sj', :], y_train.loc[x_train.city == 'sj', :]\n",
    "x_iq, y_iq = x_train.loc[x_train.city == 'iq', :], y_train.loc[x_train.city == 'iq', :]\n",
    "\n",
    "\n",
    "#split the dataset into two for cross validation\n",
    "x_train_sj, x_cross_sj, y_train_sj, y_cross_sj = train_test_split(x_sj, y_sj,test_size=0.2,stratify=x_sj.weekofyear)\n",
    "x_train_iq, x_cross_iq, y_train_iq, y_cross_iq = train_test_split(x_iq,y_iq,test_size=0.2,stratify=x_iq.weekofyear)"
   ]
  },
  {
   "cell_type": "code",
   "execution_count": 65,
   "metadata": {},
   "outputs": [],
   "source": [
    "def drop_unnecessary_columns(df):\n",
    "    return df[selected_features + new_features + ['weekofyear']]\n",
    "\n",
    "x_train_sj = drop_unnecessary_columns(x_train_sj)\n",
    "x_train_iq = drop_unnecessary_columns(x_train_iq)\n",
    "x_cross_sj = drop_unnecessary_columns(x_cross_sj)\n",
    "x_cross_iq = drop_unnecessary_columns(x_cross_iq)"
   ]
  },
  {
   "cell_type": "code",
   "execution_count": 66,
   "metadata": {},
   "outputs": [
    {
     "name": "stdout",
     "output_type": "stream",
     "text": [
      "25.9956\n",
      "7.2177\n"
     ]
    }
   ],
   "source": [
    "def train_predict_score(reg, X, y):\n",
    "    reg.fit(X, y)\n",
    "    y_pred = reg.predict(X)\n",
    "    return mean_absolute_error(y_true=y, y_pred=y_pred)\n",
    "\n",
    "reg = DummyRegressor(strategy='mean')\n",
    "print round(train_predict_score(reg, x_train_sj, y_train_sj), 4)\n",
    "print round(train_predict_score(reg, x_train_iq, y_train_iq), 4)"
   ]
  },
  {
   "cell_type": "code",
   "execution_count": 67,
   "metadata": {},
   "outputs": [],
   "source": [
    "def train_cross_value_score(reg, x, y, scoring='neg_mean_absolute_error'):\n",
    "    reg.fit(x, y)\n",
    "    scores = np.abs(cross_val_score(reg, x, y, scoring=scoring))\n",
    "    print(\"Scores: {}\".format(scores))\n",
    "    print(\"Avg Score: {}\".format(scores.mean()))"
   ]
  },
  {
   "cell_type": "code",
   "execution_count": 68,
   "metadata": {},
   "outputs": [
    {
     "name": "stdout",
     "output_type": "stream",
     "text": [
      "San Juan:\n",
      "       reanalysis_dew_point_temp_k  reanalysis_precip_amt_kg_per_m2  \\\n",
      "index                                                                 \n",
      "54                       -0.313725                         0.138104   \n",
      "652                       0.215748                        -0.643850   \n",
      "646                       1.290213                        -0.294688   \n",
      "230                       0.454924                         0.414900   \n",
      "73                        0.946056                         1.324412   \n",
      "338                       0.390109                         0.978065   \n",
      "211                       0.175581                        -0.044079   \n",
      "136                      -0.293642                        -0.316370   \n",
      "691                       1.009958                        -0.038448   \n",
      "228                       0.509697                         1.124488   \n",
      "165                       0.894934                        -0.083501   \n",
      "604                       0.414757                         0.093333   \n",
      "516                      -2.747476                        -0.713120   \n",
      "858                       1.129546                        -0.091949   \n",
      "125                       0.748873                         2.430750   \n",
      "422                       1.496525                        -0.274977   \n",
      "30                       -0.190486                         0.389558   \n",
      "417                      -0.180444                        -0.362268   \n",
      "301                      -0.804857                        -0.422808   \n",
      "14                        0.909540                        -0.294688   \n",
      "830                      -0.598545                        -0.503059   \n",
      "105                      -0.567507                         0.409269   \n",
      "766                      -0.511821                         1.292312   \n",
      "804                       0.918669                         0.842906   \n",
      "219                       0.037736                        -0.336362   \n",
      "24                        0.916843                         7.015197   \n",
      "41                       -1.365368                        -0.255266   \n",
      "213                       0.149107                        -0.387610   \n",
      "277                       1.135936                         1.848156   \n",
      "49                       -0.954570                        -0.300883   \n",
      "...                            ...                              ...   \n",
      "551                       0.178320                        -0.159528   \n",
      "217                       0.475007                        -0.213029   \n",
      "596                       0.822816                         0.634535   \n",
      "933                      -1.518733                         0.127686   \n",
      "922                      -0.941790                        -0.093075   \n",
      "423                       0.847464                        -0.424216   \n",
      "266                       0.458575                         1.586284   \n",
      "854                       1.143239                        -0.326788   \n",
      "393                       0.768956                         0.282556   \n",
      "649                       0.975268                        -0.097580   \n",
      "657                      -0.340199                        -0.624140   \n",
      "391                       0.374590                        -0.590350   \n",
      "671                      -0.835895                        -0.652298   \n",
      "441                       1.144152                         0.169923   \n",
      "319                       0.208445                         1.217411   \n",
      "210                      -0.118368                        -0.263714   \n",
      "870                      -1.211091                        -0.595137   \n",
      "466                      -1.727784                        -0.498554   \n",
      "821                      -1.055900                        -0.584718   \n",
      "863                       0.515174                        -0.447869   \n",
      "238                       0.810036                        -0.190502   \n",
      "426                       1.159671                         0.417998   \n",
      "809                       0.693187                         1.786207   \n",
      "431                       1.500177                         0.716194   \n",
      "699                       0.814600                        -0.680456   \n",
      "737                       0.925059                         0.048843   \n",
      "360                      -1.491346                        -0.691719   \n",
      "374                       0.834684                        -0.258082   \n",
      "672                      -0.497215                        -0.646666   \n",
      "782                       0.121721                        -0.573173   \n",
      "\n",
      "       reanalysis_specific_humidity_g_per_kg  station_avg_temp_c  \\\n",
      "index                                                              \n",
      "54                                 -0.371567           -0.338754   \n",
      "652                                 0.171066            0.218125   \n",
      "646                                 1.363756            0.542127   \n",
      "230                                 0.447432            0.714253   \n",
      "73                                  0.958847            0.805379   \n",
      "338                                 0.380407            0.025748   \n",
      "211                                 0.138012            0.501627   \n",
      "136                                -0.339431           -0.065377   \n",
      "691                                 1.024037            0.653503   \n",
      "228                                 0.484159            1.099006   \n",
      "165                                 0.880804            1.301507   \n",
      "604                                 0.410706           -0.490631   \n",
      "516                                -2.516389           -1.847390   \n",
      "858                                 1.226032            0.785129   \n",
      "125                                 0.770625            0.390251   \n",
      "422                                 1.567588            1.007880   \n",
      "30                                 -0.220988           -0.571631   \n",
      "417                                -0.212725           -0.156503   \n",
      "301                                -0.844419           -1.199386   \n",
      "14                                  0.898249            0.845879   \n",
      "830                                -0.634160           -0.814633   \n",
      "105                                -0.515718           -0.156503   \n",
      "766                                -0.566216           -1.260136   \n",
      "804                                 0.953338            0.005498   \n",
      "219                                -0.031847            0.825629   \n",
      "24                                  1.004755            0.440876   \n",
      "41                                 -1.344816           -1.320887   \n",
      "213                                 0.103122            1.109131   \n",
      "277                                 1.190224            1.007880   \n",
      "49                                 -1.002343           -1.209511   \n",
      "...                                      ...                 ...   \n",
      "551                                 0.129749           -0.500756   \n",
      "217                                 0.434578            0.987630   \n",
      "596                                 0.851423           -0.105878   \n",
      "933                                -1.522021           -1.422137   \n",
      "922                                -0.955516           -1.756265   \n",
      "423                                 0.836732            0.775004   \n",
      "266                                 0.427233            0.207999   \n",
      "854                                 1.186551            1.382508   \n",
      "393                                 0.762361            0.228250   \n",
      "649                                 0.997410            0.694003   \n",
      "657                                -0.407375           -0.764008   \n",
      "391                                 0.349189            0.521877   \n",
      "671                                -0.855437           -0.055252   \n",
      "441                                 1.193896            0.815504   \n",
      "319                                 0.165557           -0.399505   \n",
      "210                                -0.175080            0.289000   \n",
      "870                                -1.245655           -1.422137   \n",
      "466                                -1.656991           -1.148760   \n",
      "821                                -1.062941           -2.191643   \n",
      "863                                 0.509867            0.289000   \n",
      "238                                 0.833059            0.602877   \n",
      "426                                 1.181960            0.977505   \n",
      "809                                 0.698090            0.106749   \n",
      "431                                 1.583196            1.463509   \n",
      "699                                 0.856013            0.775004   \n",
      "737                                 0.899167            0.947130   \n",
      "360                                -1.491722           -1.361387   \n",
      "374                                 0.831223            1.423008   \n",
      "672                                -0.528572           -0.217254   \n",
      "782                                 0.077414            0.207999   \n",
      "\n",
      "       station_max_temp_c  station_min_temp_c  recent_mean_dew_point  \\\n",
      "index                                                                  \n",
      "54              -0.588836            0.132776              -0.932183   \n",
      "652             -0.296742            0.132776               0.101097   \n",
      "646              0.988471            0.132776              -0.187497   \n",
      "230              1.338984            0.465791              -1.031961   \n",
      "73               0.696377            1.198423               0.211728   \n",
      "338             -0.296742           -0.599856              -0.428016   \n",
      "211              0.988471            0.132776              -0.753091   \n",
      "136             -0.296742           -0.266841              -0.548938   \n",
      "691              0.345864            1.198423               0.519476   \n",
      "228              1.631078            0.865408              -1.043471   \n",
      "165              0.696377            1.598040              -0.689753   \n",
      "604             -1.289862            0.132776              -1.181426   \n",
      "516             -1.581956           -1.732105               0.055090   \n",
      "858              0.696377            0.465791               0.751346   \n",
      "125              0.696377            0.465791              -1.042975   \n",
      "422              0.696377            0.865408              -0.016897   \n",
      "30              -0.296742           -1.332488               3.120140   \n",
      "417             -0.296742           -0.266841              -0.152388   \n",
      "301             -0.296742           -0.999473              -0.466466   \n",
      "14               0.988471            0.465791               1.889663   \n",
      "830             -0.588836           -0.266841               0.710664   \n",
      "105              1.338984           -0.266841              -0.735926   \n",
      "766             -1.932469           -0.599856               0.875112   \n",
      "804              0.345864            0.132776               0.560174   \n",
      "219              0.345864            0.865408              -0.910014   \n",
      "24               0.696377            0.465791               3.258561   \n",
      "41               0.345864           -2.464737               0.368131   \n",
      "213              0.988471            0.465791              -0.796601   \n",
      "277              0.988471            0.465791              -1.126207   \n",
      "49              -1.581956           -0.999473              -0.671413   \n",
      "...                   ...                 ...                    ...   \n",
      "551             -1.289862            0.132776              -1.228508   \n",
      "217              0.696377            0.865408              -0.846015   \n",
      "596              0.345864            0.132776              -1.465802   \n",
      "933             -1.289862           -0.599856               0.371731   \n",
      "922             -2.224563           -0.999473               0.760144   \n",
      "423              0.696377            0.865408              -0.006082   \n",
      "266             -0.296742            0.132776              -1.261946   \n",
      "854              0.696377            1.598040               0.506659   \n",
      "393             -0.296742            0.865408              -0.719140   \n",
      "649              0.988471            0.865408               0.028564   \n",
      "657             -0.588836           -0.599856               0.401697   \n",
      "391             -0.296742            0.865408              -0.796932   \n",
      "671              0.345864            0.132776               0.770364   \n",
      "441              1.338984            0.865408               0.483044   \n",
      "319             -0.588836            0.132776              -0.750991   \n",
      "210              0.053770            0.865408              -0.730220   \n",
      "870             -1.932469           -0.999473               1.411948   \n",
      "466             -0.939349           -0.999473               1.202304   \n",
      "821             -1.932469           -2.131723               0.955996   \n",
      "863              0.345864           -0.266841               0.961321   \n",
      "238              1.338984            0.465791              -0.750363   \n",
      "426              0.696377            0.132776               0.081930   \n",
      "809             -0.296742            0.465791               0.805506   \n",
      "431              0.696377            1.198423               0.181154   \n",
      "699              0.053770            1.198423               0.650898   \n",
      "737              0.345864            0.465791               0.783396   \n",
      "360             -1.289862           -1.332488              -0.344072   \n",
      "374              1.338984            0.865408              -0.920863   \n",
      "672              0.988471           -0.266841               0.792987   \n",
      "782              0.053770            0.465791               0.240920   \n",
      "\n",
      "       recent_mean_spec_humid  recent_sum_precip  weekofyear  \n",
      "index                                                         \n",
      "54                  -0.919980          -1.378485          20  \n",
      "652                  0.027971          -1.096760          46  \n",
      "646                 -0.257381          -1.145546          40  \n",
      "230                 -1.107148           0.505973          39  \n",
      "73                   0.195603          -0.623090          39  \n",
      "338                 -0.414553           0.557590          44  \n",
      "211                 -0.803626           0.945369          20  \n",
      "136                 -0.617611           1.067567          50  \n",
      "691                  0.410079          -1.060731          33  \n",
      "228                 -1.117970           0.442250          37  \n",
      "165                 -0.716219           1.575531          26  \n",
      "604                 -1.154790          -1.091239          50  \n",
      "516                  0.246537           1.281608          13  \n",
      "858                  0.867828          -0.182216          43  \n",
      "125                 -1.099205           0.869740          39  \n",
      "422                 -0.010320           0.456787          24  \n",
      "30                   3.139981          -1.985214          48  \n",
      "417                 -0.160839           0.480948          19  \n",
      "301                 -0.489564          -0.063522           7  \n",
      "14                   1.786053          -3.201071          32  \n",
      "830                  0.822652           0.108139          15  \n",
      "105                 -0.760436           0.329856          19  \n",
      "766                  0.842047           0.150147           3  \n",
      "804                  0.644664           0.174256          41  \n",
      "219                 -0.967103           0.739777          28  \n",
      "24                   3.280328          -2.268074          42  \n",
      "41                   0.407518          -1.701824           7  \n",
      "213                 -0.847908           0.920731          22  \n",
      "277                 -1.180307          -0.232234          34  \n",
      "49                  -0.647580          -1.515156          15  \n",
      "...                       ...                ...         ...  \n",
      "551                 -1.107926          -0.282246          48  \n",
      "217                 -0.898247           0.785635          26  \n",
      "596                 -1.436965          -0.889877          42  \n",
      "933                  0.357258          -0.465703          15  \n",
      "922                  0.723827          -0.370220           4  \n",
      "423                  0.000651           0.317731          25  \n",
      "266                 -1.336685          -0.203765          23  \n",
      "854                  0.613006          -0.017489          39  \n",
      "393                 -0.721847           0.628976          47  \n",
      "649                 -0.048828          -1.113555          43  \n",
      "657                  0.323798          -1.055559          51  \n",
      "391                 -0.802866           0.612078          45  \n",
      "671                  0.676119          -1.050051          13  \n",
      "441                  0.532385           0.285559          43  \n",
      "319                 -0.763548           0.107745          25  \n",
      "210                 -0.780194           0.955947          19  \n",
      "870                  1.487148          -0.223772           4  \n",
      "466                  1.263224           0.875461          15  \n",
      "821                  1.058261           0.227692           6  \n",
      "863                  1.085382          -0.168924          48  \n",
      "238                 -0.826859           0.360725          47  \n",
      "426                  0.097755           0.352998          28  \n",
      "809                  0.905194           0.091712          46  \n",
      "431                  0.201113           0.447448          33  \n",
      "699                  0.555237          -1.053753          41  \n",
      "737                  0.708670          -0.577767          27  \n",
      "360                 -0.335868           0.976979          14  \n",
      "374                 -0.918436           0.629943          28  \n",
      "672                  0.699352          -1.052024          14  \n",
      "782                  0.276953           0.093750          19  \n",
      "\n",
      "[748 rows x 10 columns]\n",
      "Scores: [26.9323135  24.96796194 24.33850016]\n",
      "Avg Score: 25.412925204\n",
      "\n",
      "Iquitos:\n",
      "Scores: [6.93840293 7.33908191 6.89955347]\n",
      "Avg Score: 7.05901276684\n"
     ]
    }
   ],
   "source": [
    "# LinerRegression\n",
    "\n",
    "reg = LinearRegression(n_jobs=-1)\n",
    "print('San Juan:')\n",
    "print x_train_sj\n",
    "\n",
    "train_cross_value_score(reg, x_train_sj, y_train_sj)\n",
    "print('\\nIquitos:')\n",
    "train_cross_value_score(reg, x_train_iq, y_train_iq)"
   ]
  },
  {
   "cell_type": "code",
   "execution_count": 69,
   "metadata": {},
   "outputs": [
    {
     "name": "stdout",
     "output_type": "stream",
     "text": [
      "San Juan:\n",
      "Scores: [25.5216     24.39518072 23.10200803]\n",
      "Avg Score: 24.3395962517\n",
      "\n",
      "Iquitos:\n",
      "Scores: [6.58273381 7.28776978 7.23768116]\n",
      "Avg Score: 7.03606158551\n"
     ]
    }
   ],
   "source": [
    "#KNeighborsRegression\n",
    "\n",
    "reg = KNeighborsRegressor(n_jobs=-1)\n",
    "print('San Juan:')\n",
    "train_cross_value_score(reg, x_train_sj, y_train_sj)\n",
    "print('\\nIquitos:')\n",
    "train_cross_value_score(reg, x_train_iq, y_train_iq)"
   ]
  },
  {
   "cell_type": "code",
   "execution_count": 70,
   "metadata": {},
   "outputs": [
    {
     "name": "stdout",
     "output_type": "stream",
     "text": [
      "San Juan:\n",
      "Scores: [23.72830445 22.4039242  19.96197922]\n",
      "Avg Score: 22.0314026216\n",
      "\n",
      "Iquitos:\n",
      "Scores: [5.56046541 6.68937517 6.08278881]\n",
      "Avg Score: 6.11087646092\n",
      "\n",
      "San Juan:\n",
      "Scores: [22.17791491 21.17124329 19.01624462]\n",
      "Avg Score: 20.788467605\n",
      "\n",
      "Iquitos:\n",
      "Scores: [5.39724625 6.55871721 5.79878418]\n",
      "Avg Score: 5.91824921342\n"
     ]
    }
   ],
   "source": [
    "#SVM (Support Vector Regression)\n",
    "reg = SVR(kernel='linear')\n",
    "print('San Juan:')\n",
    "train_cross_value_score(reg, x_train_sj, y_train_sj.total_cases)\n",
    "print('\\nIquitos:')\n",
    "train_cross_value_score(reg, x_train_iq, y_train_iq.total_cases)\n",
    "\n",
    "reg = SVR(kernel='rbf')\n",
    "print('\\nSan Juan:')\n",
    "train_cross_value_score(reg, x_train_sj, y_train_sj.total_cases)\n",
    "print('\\nIquitos:')\n",
    "train_cross_value_score(reg, x_train_iq, y_train_iq.total_cases)"
   ]
  },
  {
   "cell_type": "code",
   "execution_count": 71,
   "metadata": {},
   "outputs": [
    {
     "name": "stdout",
     "output_type": "stream",
     "text": [
      "San Juan:\n",
      "Scores: [20.17456035 21.47506684 16.04678513]\n",
      "Avg Score: 19.23213744\n",
      "\n",
      "Iquitos:\n",
      "Scores: [5.12321161 5.80350829 5.20431366]\n",
      "Avg Score: 5.37701118599\n"
     ]
    }
   ],
   "source": [
    "#Gredient Boosting Regression\n",
    "reg = GradientBoostingRegressor(criterion='mae', random_state=67)\n",
    "print('San Juan:')\n",
    "train_cross_value_score(reg, x_train_sj, y_train_sj.total_cases)\n",
    "print('\\nIquitos:')\n",
    "train_cross_value_score(reg, x_train_iq, y_train_iq.total_cases)"
   ]
  },
  {
   "cell_type": "code",
   "execution_count": 72,
   "metadata": {},
   "outputs": [
    {
     "name": "stdout",
     "output_type": "stream",
     "text": [
      "San Juan:\n",
      "Scores: [18.7184     19.35100402 16.68674699]\n",
      "Avg Score: 18.2520503347\n",
      "\n",
      "Iquitos:\n",
      "Scores: [6.67553957 6.71726619 6.33188406]\n",
      "Avg Score: 6.57489660446\n"
     ]
    }
   ],
   "source": [
    "#Random Forest Regression\n",
    "reg = RandomForestRegressor(criterion='mae', n_jobs=-1, random_state=67)\n",
    "print('San Juan:')\n",
    "train_cross_value_score(reg, x_train_sj, y_train_sj.total_cases)\n",
    "print('\\nIquitos:')\n",
    "train_cross_value_score(reg, x_train_iq, y_train_iq.total_cases)"
   ]
  },
  {
   "cell_type": "code",
   "execution_count": 73,
   "metadata": {},
   "outputs": [
    {
     "name": "stdout",
     "output_type": "stream",
     "text": [
      "San Juan:\n",
      "Scores: [26.01487374 23.62487406 21.78418646]\n",
      "Avg Score: 23.8079780882\n",
      "\n",
      "Iquitos:\n",
      "Scores: [6.48563614 7.23112647 7.8556758 ]\n",
      "Avg Score: 7.19081280354\n"
     ]
    }
   ],
   "source": [
    "#Multi-layer Perceptron Regression.\n",
    "reg = MLPRegressor(max_iter=3000, random_state=67)\n",
    "print('San Juan:')\n",
    "train_cross_value_score(reg, x_train_sj, y_train_sj.total_cases)\n",
    "print('\\nIquitos:')\n",
    "train_cross_value_score(reg, x_train_iq, y_train_iq.total_cases)"
   ]
  },
  {
   "cell_type": "code",
   "execution_count": 74,
   "metadata": {},
   "outputs": [],
   "source": [
    "#grid serch to find optimal hyper-parameters\n",
    "def grid_search(reg, X, y, param_grid, scoring='neg_mean_absolute_error'):\n",
    "    grid = GridSearchCV(reg, param_grid=param_grid, scoring=scoring)\n",
    "    grid.fit(X, y)\n",
    "    print(\"Best score: {}\".format(np.abs(grid.best_score_)))\n",
    "    print(\"Best params: {}\".format(grid.best_params_))"
   ]
  },
  {
   "cell_type": "code",
   "execution_count": 75,
   "metadata": {},
   "outputs": [
    {
     "name": "stdout",
     "output_type": "stream",
     "text": [
      "Best score: 16.4240604925\n",
      "Best params: {'n_estimators': 500, 'learning_rate': 0.1, 'max_depth': 7}\n",
      "Best score: 5.66193021249\n",
      "Best params: {'n_estimators': 100, 'learning_rate': 0.1, 'max_depth': 3}\n"
     ]
    }
   ],
   "source": [
    "reg = GradientBoostingRegressor(random_state=67)\n",
    "\n",
    "param_grid = [\n",
    "    {'learning_rate': [0.1, 0.3, 1.0, 3.0], 'n_estimators': [10, 30, 100, 300, 500], \n",
    "     'max_depth': [3, 5, 7, 9]}\n",
    "]\n",
    "\n",
    "grid_search(reg, x_train_sj, y_train_sj.total_cases, param_grid)\n",
    "grid_search(reg, x_train_iq, y_train_iq.total_cases, param_grid)"
   ]
  },
  {
   "cell_type": "code",
   "execution_count": 76,
   "metadata": {},
   "outputs": [
    {
     "name": "stdout",
     "output_type": "stream",
     "text": [
      "Best score: 16.7267139037\n",
      "Best params: {'n_estimators': 500, 'max_depth': None}\n",
      "Best score: 6.22997596154\n",
      "Best params: {'n_estimators': 300, 'max_depth': None}\n"
     ]
    }
   ],
   "source": [
    "reg = RandomForestRegressor(random_state=67)\n",
    "\n",
    "param_grid = [\n",
    "    {\n",
    "      'n_estimators': [10, 30, 100, 300, 500], \n",
    "      'max_depth': [3, 5, 7, None]\n",
    "    } \n",
    "]\n",
    "\n",
    "grid_search(reg, x_train_sj, y_train_sj.total_cases, param_grid)\n",
    "grid_search(reg, x_train_iq, y_train_iq.total_cases, param_grid)"
   ]
  },
  {
   "cell_type": "code",
   "execution_count": 77,
   "metadata": {},
   "outputs": [],
   "source": [
    "def cross_validate(reg, x_train, y_train, x_cross, y_cross):\n",
    "    reg.fit(x_train, y_train)\n",
    "    y_pred = reg.predict(x_cross)\n",
    "    return mean_absolute_error(y_true=y_cross, y_pred=y_pred)"
   ]
  },
  {
   "cell_type": "code",
   "execution_count": 78,
   "metadata": {},
   "outputs": [
    {
     "data": {
      "text/plain": [
       "14.59470799784944"
      ]
     },
     "execution_count": 78,
     "metadata": {},
     "output_type": "execute_result"
    }
   ],
   "source": [
    "reg_sj = GradientBoostingRegressor(learning_rate=0.1, max_depth=7, n_estimators=500, random_state=67)\n",
    "cross_validate(reg_sj, x_train_sj, y_train_sj.total_cases, x_cross_sj, y_cross_sj.total_cases)"
   ]
  },
  {
   "cell_type": "code",
   "execution_count": 79,
   "metadata": {},
   "outputs": [
    {
     "data": {
      "text/plain": [
       "4.531562748853787"
      ]
     },
     "execution_count": 79,
     "metadata": {},
     "output_type": "execute_result"
    }
   ],
   "source": [
    "reg_iq = GradientBoostingRegressor(learning_rate=0.1, max_depth=7, n_estimators=500, random_state=67)\n",
    "cross_validate(reg_iq, x_train_iq, y_train_iq.total_cases, x_cross_iq, y_cross_iq.total_cases)"
   ]
  },
  {
   "cell_type": "code",
   "execution_count": 80,
   "metadata": {},
   "outputs": [
    {
     "data": {
      "text/plain": [
       "17.46613829787234"
      ]
     },
     "execution_count": 80,
     "metadata": {},
     "output_type": "execute_result"
    }
   ],
   "source": [
    "reg_sj = RandomForestRegressor(max_depth=None, n_estimators=500, random_state=67)\n",
    "cross_validate(reg_sj, x_train_sj, y_train_sj.total_cases, x_cross_sj, y_cross_sj.total_cases)"
   ]
  },
  {
   "cell_type": "code",
   "execution_count": 81,
   "metadata": {},
   "outputs": [
    {
     "data": {
      "text/plain": [
       "4.589346153846154"
      ]
     },
     "execution_count": 81,
     "metadata": {},
     "output_type": "execute_result"
    }
   ],
   "source": [
    "reg_iq = RandomForestRegressor(max_depth=None, n_estimators=500, random_state=67)\n",
    "cross_validate(reg_iq, x_train_iq, y_train_iq.total_cases, x_cross_iq, y_cross_iq.total_cases)"
   ]
  },
  {
   "cell_type": "code",
   "execution_count": 82,
   "metadata": {},
   "outputs": [],
   "source": [
    "predict_sj_gbr = x_test_sj[keys].copy()\n",
    "predict_iq_gbr = x_test_iq[keys].copy()\n",
    "\n",
    "predict_sj_rnf = x_test_sj[keys].copy()\n",
    "predict_iq_rnf = x_test_iq[keys].copy()"
   ]
  },
  {
   "cell_type": "code",
   "execution_count": 83,
   "metadata": {},
   "outputs": [],
   "source": [
    "x_sj = drop_unnecessary_columns(x_sj)\n",
    "x_iq = drop_unnecessary_columns(x_iq)\n",
    "x_test_sj = drop_unnecessary_columns(x_test_sj)\n",
    "x_test_iq = drop_unnecessary_columns(x_test_iq)"
   ]
  },
  {
   "cell_type": "code",
   "execution_count": 84,
   "metadata": {},
   "outputs": [
    {
     "data": {
      "text/plain": [
       "RandomForestRegressor(bootstrap=True, criterion='mse', max_depth=None,\n",
       "           max_features='auto', max_leaf_nodes=None,\n",
       "           min_impurity_split=1e-07, min_samples_leaf=1,\n",
       "           min_samples_split=2, min_weight_fraction_leaf=0.0,\n",
       "           n_estimators=500, n_jobs=1, oob_score=False, random_state=None,\n",
       "           verbose=0, warm_start=False)"
      ]
     },
     "execution_count": 84,
     "metadata": {},
     "output_type": "execute_result"
    }
   ],
   "source": [
    "gbr_sj = GradientBoostingRegressor(learning_rate=0.1, max_depth=5, n_estimators=500, random_state=67)\n",
    "gbr_sj.fit(x_sj, y_sj.total_cases)\n",
    "rnf_sj = RandomForestRegressor(n_estimators=500, max_depth =  None)\n",
    "rnf_sj.fit(x_sj, y_sj.total_cases)"
   ]
  },
  {
   "cell_type": "code",
   "execution_count": 85,
   "metadata": {},
   "outputs": [
    {
     "data": {
      "text/plain": [
       "RandomForestRegressor(bootstrap=True, criterion='mse', max_depth=7,\n",
       "           max_features='auto', max_leaf_nodes=None,\n",
       "           min_impurity_split=1e-07, min_samples_leaf=1,\n",
       "           min_samples_split=2, min_weight_fraction_leaf=0.0,\n",
       "           n_estimators=300, n_jobs=1, oob_score=False, random_state=None,\n",
       "           verbose=0, warm_start=False)"
      ]
     },
     "execution_count": 85,
     "metadata": {},
     "output_type": "execute_result"
    }
   ],
   "source": [
    "gbr_iq = GradientBoostingRegressor(learning_rate=0.1, max_depth=5, n_estimators=500, random_state=67)\n",
    "gbr_iq.fit(x_iq, y_iq.total_cases)\n",
    "\n",
    "rnf_iq = RandomForestRegressor(n_estimators=300, max_depth = 7)\n",
    "rnf_iq.fit(x_iq, y_iq.total_cases)"
   ]
  },
  {
   "cell_type": "code",
   "execution_count": 92,
   "metadata": {},
   "outputs": [],
   "source": [
    "y_gbr_sj_pred = gbr_sj.predict(x_test_sj)\n",
    "y_rnf_sj_pred = rnf_sj.predict(x_test_sj)\n",
    "\n",
    "predict_sj_gbr['total_cases'] = y_gbr_sj_pred.round().astype(int)\n",
    "predict_sj_rnf['total_cases'] = y_rnf_sj_pred.round().astype(int)\n"
   ]
  },
  {
   "cell_type": "code",
   "execution_count": 87,
   "metadata": {},
   "outputs": [],
   "source": [
    "y_gbr_iq_pred = gbr_iq.predict(x_test_iq)\n",
    "y_rnf_iq_pred = rnf_iq.predict(x_test_iq)\n",
    "\n",
    "\n",
    "predict_iq_gbr['total_cases'] = y_gbr_iq_pred.round().astype(int)\n",
    "predict_iq_rnf['total_cases'] = y_rnf_iq_pred.round().astype(int)"
   ]
  },
  {
   "cell_type": "code",
   "execution_count": 88,
   "metadata": {},
   "outputs": [],
   "source": [
    "predict_df_gbr = pd.concat([predict_sj_gbr, predict_iq_gbr], axis=0)\n",
    "predict_df_rnf = pd.concat([predict_sj_rnf, predict_iq_rnf], axis=0)"
   ]
  },
  {
   "cell_type": "code",
   "execution_count": 89,
   "metadata": {},
   "outputs": [
    {
     "data": {
      "text/html": [
       "<div>\n",
       "<style scoped>\n",
       "    .dataframe tbody tr th:only-of-type {\n",
       "        vertical-align: middle;\n",
       "    }\n",
       "\n",
       "    .dataframe tbody tr th {\n",
       "        vertical-align: top;\n",
       "    }\n",
       "\n",
       "    .dataframe thead th {\n",
       "        text-align: right;\n",
       "    }\n",
       "</style>\n",
       "<table border=\"1\" class=\"dataframe\">\n",
       "  <thead>\n",
       "    <tr style=\"text-align: right;\">\n",
       "      <th></th>\n",
       "      <th>city</th>\n",
       "      <th>year</th>\n",
       "      <th>weekofyear</th>\n",
       "      <th>total_cases</th>\n",
       "    </tr>\n",
       "  </thead>\n",
       "  <tbody>\n",
       "  </tbody>\n",
       "</table>\n",
       "</div>"
      ],
      "text/plain": [
       "Empty DataFrame\n",
       "Columns: [city, year, weekofyear, total_cases]\n",
       "Index: []"
      ]
     },
     "execution_count": 89,
     "metadata": {},
     "output_type": "execute_result"
    }
   ],
   "source": [
    "predict_df_gbr[predict_df_gbr.total_cases < 0]\n",
    "predict_df_rnf[predict_df_rnf.total_cases < 0]"
   ]
  },
  {
   "cell_type": "code",
   "execution_count": 90,
   "metadata": {},
   "outputs": [],
   "source": [
    "predict_df_gbr.loc[predict_df_gbr.total_cases < 0, 'total_cases'] = 0\n",
    "predict_df_rnf.loc[predict_df_rnf.total_cases < 0, 'total_cases'] = 0"
   ]
  },
  {
   "cell_type": "code",
   "execution_count": 99,
   "metadata": {},
   "outputs": [
    {
     "data": {
      "text/plain": [
       "<matplotlib.axes._subplots.AxesSubplot at 0x7fee046ed390>"
      ]
     },
     "execution_count": 99,
     "metadata": {},
     "output_type": "execute_result"
    },
    {
     "data": {
      "image/png": "[encoded data removed]",
      "text/plain": [
       "<Figure size 576x396 with 1 Axes>"
      ]
     },
     "metadata": {},
     "output_type": "display_data"
    }
   ],
   "source": [
    "# submission_filename = 'dengue_submission_001.csv'\n",
    "# predict_df.to_csv(submission_filename, index=False)\n",
    "# predict_df_gbr.reset_index(inplace=True)\n",
    "# predict_df_rnf.reset_index(inplace=True)\n",
    "df_pred = pd.DataFrame()\n",
    "df_pred['gradient_boosting_regression'] = predict_df_gbr.total_cases.rolling(window=5, min_periods=1,center=True).mean()\n",
    "df_pred['random_forest_regression'] = predict_df_rnf.total_cases.rolling(window=5, min_periods=1,center=True).mean()\n",
    "# df_pred['gradient_boosting_regression'] = predict_df_gbr.total_cases\n",
    "# df_pred['random_forest_regression'] = predict_df_rnf.total_cases\n",
    "df_pred['y_test'] = y_test\n",
    "df_pred['y_train'] = y_train\n",
    "\n",
    "difference = df_pred['gradient_boosting_regression'] - df_pred['random_forest_regression']\n",
    "\n",
    "smoothed_difference = difference.rolling(window=13, min_periods=1).mean()\n",
    "df_pred['difference'] = smoothed_difference\n",
    "# print difference_roll\n",
    "df_pred['ensembled'] = df_pred['gradient_boosting_regression']*0.8+df_pred['random_forest_regression']*0.4\n",
    "df_pred['ensembled'] = df_pred['ensembled'] + df_pred['difference']\n",
    "df_pred['ensembled'] =df_pred['ensembled'].astype(int)\n",
    "\n",
    "df_pred[['gradient_boosting_regression','random_forest_regression','ensembled']].plot()\n",
    "\n"
   ]
  }
 ],
 "metadata": {
  "kernelspec": {
   "display_name": "Python 3",
   "language": "python",
   "name": "python3"
  },
  "language_info": {
   "codemirror_mode": {
    "name": "ipython",
    "version": 2
   },
   "file_extension": ".py",
   "mimetype": "text/x-python",
   "name": "python",
   "nbconvert_exporter": "python",
   "pygments_lexer": "ipython2",
   "version": "2.7.15rc1"
  }
 },
 "nbformat": 4,
 "nbformat_minor": 2
}
